{
 "cells": [
  {
   "cell_type": "code",
   "execution_count": 1,
   "id": "optical-threat",
   "metadata": {},
   "outputs": [],
   "source": [
    "import requests\n",
    "import json\n",
    "import numpy as np\n",
    "import random\n",
    "import joblib\n",
    "import pandas as pd\n",
    "import data\n",
    "from functools import partial"
   ]
  },
  {
   "cell_type": "code",
   "execution_count": 2,
   "id": "above-greeting",
   "metadata": {},
   "outputs": [],
   "source": [
    "file_path_class = r'dataset\\test_classification_students.csv'"
   ]
  },
  {
   "cell_type": "code",
   "execution_count": 7,
   "id": "ecological-second",
   "metadata": {},
   "outputs": [],
   "source": [
    "URL = \"https://qzbbjszmjk.execute-api.us-east-1.amazonaws.com/dev\""
   ]
  },
  {
   "cell_type": "code",
   "execution_count": 3,
   "id": "front-publisher",
   "metadata": {},
   "outputs": [],
   "source": [
    "model = joblib.load(r'models\\2021-06-13 19_17_00+00_00\\model.joblib')"
   ]
  },
  {
   "cell_type": "code",
   "execution_count": 4,
   "id": "changed-vulnerability",
   "metadata": {},
   "outputs": [],
   "source": [
    "reader = partial(pd.read_csv, filepath_or_buffer=file_path_class)"
   ]
  },
  {
   "cell_type": "code",
   "execution_count": 5,
   "id": "strong-amsterdam",
   "metadata": {},
   "outputs": [],
   "source": [
    "df_orginal = reader()\n",
    "df = data.clean_dataset(df_orginal)\n",
    "X = df"
   ]
  },
  {
   "cell_type": "code",
   "execution_count": 6,
   "id": "naughty-finding",
   "metadata": {},
   "outputs": [
    {
     "data": {
      "text/plain": [
       "(100, 29)"
      ]
     },
     "execution_count": 6,
     "metadata": {},
     "output_type": "execute_result"
    }
   ],
   "source": [
    "X.shape"
   ]
  },
  {
   "cell_type": "markdown",
   "id": "surprising-dispatch",
   "metadata": {},
   "source": [
    "# Regression"
   ]
  },
  {
   "cell_type": "code",
   "execution_count": null,
   "id": "great-victor",
   "metadata": {},
   "outputs": [],
   "source": [
    "y_pred_reg = [2]*442\n",
    "y_pred_reg"
   ]
  },
  {
   "cell_type": "code",
   "execution_count": null,
   "id": "intimate-eight",
   "metadata": {},
   "outputs": [],
   "source": [
    "results = {\"id\": \"AlejandroEchavarria;JulianaArroyave\",\"email\": \"alejandro.echavarria4@udea.edu.co;juliana.arroyavel@udea.edu.co\", \"task_type\": \"Regression\" ,\"predictions\": }\n",
    "headers = {'Content-type': 'application/json', 'Accept': 'text/plain'}"
   ]
  },
  {
   "cell_type": "code",
   "execution_count": null,
   "id": "spiritual-dancing",
   "metadata": {},
   "outputs": [],
   "source": [
    "r = requests.post(url= URL+\"/benchmarkin/\", data = json.dumps(results) , headers=headers)"
   ]
  },
  {
   "cell_type": "code",
   "execution_count": null,
   "id": "radio-liberty",
   "metadata": {},
   "outputs": [],
   "source": [
    "r.text"
   ]
  },
  {
   "cell_type": "markdown",
   "id": "affiliated-ceramic",
   "metadata": {},
   "source": [
    "# Classification"
   ]
  },
  {
   "cell_type": "code",
   "execution_count": 8,
   "id": "resistant-peoples",
   "metadata": {},
   "outputs": [
    {
     "data": {
      "text/plain": [
       "array([0, 0, 1, 1, 0, 1, 1, 1, 0, 0, 0, 1, 1, 1, 1, 0, 1, 1, 1, 0, 0, 1,\n",
       "       0, 1, 0, 1, 0, 1, 1, 1, 0, 1, 0, 0, 0, 0, 1, 1, 1, 1, 0, 1, 0, 1,\n",
       "       0, 1, 0, 1, 1, 0, 1, 1, 0, 1, 1, 0, 1, 1, 1, 1, 1, 0, 0, 0, 0, 1,\n",
       "       1, 1, 0, 0, 0, 1, 0, 0, 1, 1, 0, 0, 0, 0, 1, 1, 0, 1, 1, 0, 1, 0,\n",
       "       0, 0, 1, 1, 0, 1, 1, 1, 1, 0, 0, 1], dtype=int64)"
      ]
     },
     "execution_count": 8,
     "metadata": {},
     "output_type": "execute_result"
    }
   ],
   "source": [
    "y_pred_class = model.predict(X)\n",
    "y_pred_class"
   ]
  },
  {
   "cell_type": "code",
   "execution_count": 13,
   "id": "retired-correspondence",
   "metadata": {},
   "outputs": [],
   "source": [
    "results = {\"id\": \"AlejandroEchavarria;JulianaArroyave\",\"email\": \"alejandro.echavarria4@udea.edu.co;juliana.arroyavel@udea.edu.co\", \"task_type\": \"Classification\" ,\"predictions\": [int(x) for x in y_pred_class] }\n",
    "headers = {'Content-type': 'application/json', 'Accept': 'text/plain'}"
   ]
  },
  {
   "cell_type": "code",
   "execution_count": 14,
   "id": "separate-insulin",
   "metadata": {},
   "outputs": [
    {
     "data": {
      "text/plain": [
       "'{\"F1\":0.5300422215004872}'"
      ]
     },
     "execution_count": 14,
     "metadata": {},
     "output_type": "execute_result"
    }
   ],
   "source": [
    "r = requests.post(url= URL+\"/benchmarkin/\", data = json.dumps(results) , headers=headers)\n",
    "r.text"
   ]
  },
  {
   "cell_type": "code",
   "execution_count": null,
   "id": "fuzzy-accommodation",
   "metadata": {},
   "outputs": [],
   "source": []
  }
 ],
 "metadata": {
  "kernelspec": {
   "display_name": "Python 3",
   "language": "python",
   "name": "python3"
  },
  "language_info": {
   "codemirror_mode": {
    "name": "ipython",
    "version": 3
   },
   "file_extension": ".py",
   "mimetype": "text/x-python",
   "name": "python",
   "nbconvert_exporter": "python",
   "pygments_lexer": "ipython3",
   "version": "3.9.1"
  }
 },
 "nbformat": 4,
 "nbformat_minor": 5
}
